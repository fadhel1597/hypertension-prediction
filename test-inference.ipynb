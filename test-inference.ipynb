{
 "cells": [
  {
   "cell_type": "code",
   "execution_count": 1,
   "metadata": {},
   "outputs": [
    {
     "name": "stdout",
     "output_type": "stream",
     "text": [
      "Predicted Class: 1\n",
      "Probability of Positive Class: 0.7726466981957272\n"
     ]
    }
   ],
   "source": [
    "# import json\n",
    "# import joblib\n",
    "# import pandas as pd\n",
    "# from sklearn.preprocessing import StandardScaler\n",
    "\n",
    "# # Define the new data point in JSON format\n",
    "# data_json = '{\"age\":86.0,\"sex\":0.0,\"cp\":1.0,\"trestbps\":135.0,\"chol\":203.0,\"fbs\":0.0,\"restecg\":1.0,\"thalach\":132.0,\"exang\":0.0,\"oldpeak\":0.0,\"slope\":1.0,\"ca\":0.0,\"thal\":1.0}'\n",
    "\n",
    "# # Convert the data dictionary into a DataFrame\n",
    "# X_pred = pd.DataFrame([json.loads(data_json)])\n",
    "\n",
    "# # Initialize StandardScaler\n",
    "# scaler = StandardScaler()\n",
    "\n",
    "# # Open and load the trained SVM model\n",
    "# file = open(\"weights/SVM.pkl\", \"rb\")\n",
    "# trained_model = joblib.load(file)\n",
    "\n",
    "# # Preprocess new data using the same StandardScaler\n",
    "# X_pred_scaled = scaler.fit_transform(X_pred)\n",
    "\n",
    "# # Make predictions on the new data point\n",
    "# y_pred_prob = trained_model.predict_proba(X_pred_scaled)\n",
    "# threshold = 0.4\n",
    "# y_pred = (y_pred_prob[:, 1] >= threshold).astype(int)\n",
    "# print(\"Predicted Class:\", y_pred[0])\n",
    "# print(\"Probability of Positive Class:\", y_pred_prob[0][1])"
   ]
  },
  {
   "cell_type": "code",
   "execution_count": 1,
   "metadata": {},
   "outputs": [
    {
     "name": "stdout",
     "output_type": "stream",
     "text": [
      "Predicted Class: 1\n",
      "Probability of Positive Class: 0.9945340126115947\n"
     ]
    },
    {
     "name": "stderr",
     "output_type": "stream",
     "text": [
      "/home/fadhel/Workspace/intern/hypertension-prediction/.venv/lib/python3.8/site-packages/sklearn/base.py:457: UserWarning: X has feature names, but LogisticRegression was fitted without feature names\n",
      "  warnings.warn(\n"
     ]
    }
   ],
   "source": [
    "import json\n",
    "import joblib\n",
    "import numpy as np\n",
    "import pandas as pd\n",
    "\n",
    "# Load the trained SVM model\n",
    "file = open(\"weights/SVM.pkl\", \"rb\")\n",
    "trained_model = joblib.load(file)\n",
    "\n",
    "# Define the new data point in JSON format\n",
    "data_json = '{\"age\":56.0,\"sex\":0.0,\"cp\":1.0,\"trestbps\":135.0,\"chol\":203.0,\"fbs\":0.0,\"restecg\":1.0,\"thalach\":132.0,\"exang\":0.0,\"oldpeak\":0.0,\"slope\":1.0,\"ca\":0.0,\"thal\":1.0}'\n",
    "\n",
    "# Convert the data dictionary into a DataFrame\n",
    "data_dict = json.loads(data_json)\n",
    "X_pred = pd.DataFrame([data_dict])\n",
    "\n",
    "# Standardize the new data point using the same scaling parameters as used for training\n",
    "# Replace 'mean' and 'std' with the actual mean and standard deviation values from your training data\n",
    "mean = np.array([5.37250e+01, 4.75000e-01, 7.50000e-01, 1.24575e+02, 2.44000e+02, 1.00000e-01, 6.75000e-01, 1.49150e+02, 3.00000e-01, 1.27000e+00, 1.30000e+00, 7.00000e-01, 2.25000e+00])\n",
    "std = np.array([16.34717493,  0.50573633,  1.00638984, 16.20206935, 66.04970933, 0.30382181,  0.57233216, 23.42642602,  0.46409548,  1.21891082, 0.72324057,  1.1140133 ,  0.66986413])\n",
    "\n",
    "X_pred_scaled = (X_pred - mean) / std\n",
    "\n",
    "# Make predictions on the new data point\n",
    "y_pred_prob = trained_model.predict_proba(X_pred_scaled)\n",
    "threshold = 0.4\n",
    "y_pred = (y_pred_prob[:, 1] >= threshold).astype(int)\n",
    "print(\"Predicted Class:\", y_pred[0])\n",
    "print(\"Probability of Positive Class:\", y_pred_prob[0][1])"
   ]
  },
  {
   "cell_type": "code",
   "execution_count": 2,
   "metadata": {},
   "outputs": [
    {
     "name": "stdout",
     "output_type": "stream",
     "text": [
      "Predicted Class: 1\n",
      "Probability of Positive Class: 0.9948028669643509\n"
     ]
    }
   ],
   "source": [
    "import json\n",
    "import joblib\n",
    "import numpy as np\n",
    "import pandas as pd\n",
    "from sklearn.preprocessing import StandardScaler\n",
    "\n",
    "# Load your training data\n",
    "train_data = pd.read_csv('dataset/hypertension_prediksi_dokter.csv')\n",
    "train_data.drop(columns='chol(mmol)', inplace=True)\n",
    "\n",
    "# Define features and target variable\n",
    "X_train = train_data.drop([\"Rizky's Diagnose\", \"Kevin's Diagnose\", \"Dwi'S Diagnosis\", \"Ismi's Diagnose\"], axis=1)\n",
    "y_train = train_data[\"Ismi's Diagnose\"]\n",
    "\n",
    "\n",
    "# Initialize and fit StandardScaler to training data\n",
    "scaler = StandardScaler()\n",
    "scaler.fit(X_train)\n",
    "\n",
    "# Define the new data point in JSON format\n",
    "data_json = '{\"age\":56.0,\"sex\":0.0,\"cp\":1.0,\"trestbps\":135.0,\"chol\":203.0,\"fbs\":0.0,\"restecg\":1.0,\"thalach\":132.0,\"exang\":0.0,\"oldpeak\":0.0,\"slope\":1.0,\"ca\":0.0,\"thal\":1.0}'\n",
    "data_dict = json.loads(data_json)\n",
    "\n",
    "# Convert the data dictionary into a DataFrame\n",
    "X_pred = pd.DataFrame([data_dict])\n",
    "\n",
    "# Standardize the new data point using the same scaler\n",
    "X_pred_scaled = scaler.transform(X_pred)\n",
    "\n",
    "# Open and load the trained SVM model\n",
    "file = open(\"weights/SVM.pkl\", \"rb\")\n",
    "trained_model = joblib.load(file)\n",
    "\n",
    "# Make predictions on the new data point\n",
    "y_pred_prob = trained_model.predict_proba(X_pred_scaled)\n",
    "threshold = 0.4\n",
    "y_pred = (y_pred_prob[:, 1] >= threshold).astype(int)\n",
    "print(\"Predicted Class:\", y_pred[0])\n",
    "print(\"Probability of Positive Class:\", y_pred_prob[0][1])"
   ]
  },
  {
   "cell_type": "code",
   "execution_count": 2,
   "metadata": {},
   "outputs": [],
   "source": [
    "# mean_values = X_train.mean()\n",
    "# std_deviation_values = X_train.std()\n",
    "\n",
    "# # Convert mean and std deviation to NumPy arrays\n",
    "# mean_array = np.array(mean_values)\n",
    "# std_deviation_array = np.array(std_deviation_values)\n",
    "\n",
    "# print(mean_array)\n",
    "# print(std_deviation_array)"
   ]
  }
 ],
 "metadata": {
  "kernelspec": {
   "display_name": ".venv",
   "language": "python",
   "name": "python3"
  },
  "language_info": {
   "codemirror_mode": {
    "name": "ipython",
    "version": 3
   },
   "file_extension": ".py",
   "mimetype": "text/x-python",
   "name": "python",
   "nbconvert_exporter": "python",
   "pygments_lexer": "ipython3",
   "version": "3.8.10"
  },
  "orig_nbformat": 4
 },
 "nbformat": 4,
 "nbformat_minor": 2
}
